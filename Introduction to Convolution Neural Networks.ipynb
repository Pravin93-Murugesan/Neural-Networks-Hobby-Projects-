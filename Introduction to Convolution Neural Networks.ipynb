{
  "cells": [
    {
      "metadata": {
        "collapsed": true
      },
      "cell_type": "markdown",
      "source": "# Introduction to Convolution Neural Networks (CNN)"
    },
    {
      "metadata": {},
      "cell_type": "markdown",
      "source": "##### (Have a look at Introduction to Neural Networks notebook before reading this)"
    },
    {
      "metadata": {},
      "cell_type": "markdown",
      "source": "We now move from fully-connected neural networks to CNN. A fully-connected neural network usually does not work well with image classification because of the huge number of parameters involved. Such a number of parameters could lead to overfitting and poor classification on test data."
    },
    {
      "metadata": {},
      "cell_type": "markdown",
      "source": "CNN is similar to regular neural networks with weights, biases, loss function and, an optimizer. Additionally, there are also convolutional layers, pooling layers, and flatten layers."
    },
    {
      "metadata": {
        "collapsed": true
      },
      "cell_type": "markdown",
      "source": "## Import necessary libraries"
    },
    {
      "metadata": {
        "trusted": true
      },
      "cell_type": "code",
      "source": "from keras.layers import Conv2D, MaxPooling2D, Flatten, Dense, Dropout\nfrom keras.models import Sequential\nfrom keras.datasets import mnist\nfrom keras.utils import to_categorical\n\nimport matplotlib.pyplot as plt\n%matplotlib inline",
      "execution_count": 17,
      "outputs": []
    },
    {
      "metadata": {
        "collapsed": true
      },
      "cell_type": "markdown",
      "source": "## Download and load the MNIST dataset"
    },
    {
      "metadata": {
        "trusted": true
      },
      "cell_type": "code",
      "source": "(X_train, y_train), (X_test, y_test) = mnist.load_data()",
      "execution_count": 18,
      "outputs": []
    },
    {
      "metadata": {
        "collapsed": true
      },
      "cell_type": "markdown",
      "source": "## Data Pre-processing"
    },
    {
      "metadata": {
        "trusted": true
      },
      "cell_type": "code",
      "source": "num_classes = 10\n\n# Similar to what was done with the fully-connected neural networks \n# Additionally, the data is converted to 4-D numpy arrays to be able to use in Keras API\nX_train = X_train.reshape(60000,28,28,1)\nX_test = X_test.reshape(10000,28,28,1)\nX_train = X_train.astype('float32')\nX_test = X_test.astype('float32')\nX_train /= 255.0\nX_test /= 255.0\ny_train = to_categorical(y_train,num_classes)\ny_test = to_categorical(y_test, num_classes)",
      "execution_count": 19,
      "outputs": []
    },
    {
      "metadata": {
        "trusted": true
      },
      "cell_type": "code",
      "source": "# Check the data dimensions\nprint(X_train.shape)\nprint(y_train.shape)\nprint(X_test.shape)\nprint(y_test.shape)",
      "execution_count": 20,
      "outputs": [
        {
          "output_type": "stream",
          "text": "(60000, 28, 28, 1)\n(60000, 10)\n(10000, 28, 28, 1)\n(10000, 10)\n",
          "name": "stdout"
        }
      ]
    },
    {
      "metadata": {},
      "cell_type": "markdown",
      "source": "## Convolutional and Pooling Layers"
    },
    {
      "metadata": {},
      "cell_type": "markdown",
      "source": "In images, the knowledge of spatial structure is important. There is little correlation between two individual pixels unless they are close to each other. This leads to the concepts of Convolutional Layers and Pooling Layers."
    },
    {
      "metadata": {},
      "cell_type": "markdown",
      "source": "Convolutional layer is where we extract features from the images. Since, pixels are only related with the adjacent pixels, convolution preserves the relationship between different parts of an image. Convolution is basically filtering the image to decrease the size of the image (decrease in complexity) without loosing the relationship between pixels. "
    },
    {
      "metadata": {},
      "cell_type": "markdown",
      "source": "Pooling layers after each convolution layer further reduce the spatial size and the parameters count. This reduction in computational complexity also helps with the overfitting problem. Typically, a pooling size is chosen and we select either the maximum, average, or sum of values inside these pixels."
    },
    {
      "metadata": {},
      "cell_type": "markdown",
      "source": "Since the complexity is vastly reduced due to convolution and pooling layers, a fully connected neural network is built at the end to classify images. "
    },
    {
      "metadata": {
        "collapsed": true
      },
      "cell_type": "markdown",
      "source": "## Create, compile and train the model\nAn overview of the complete convolutional neural network  \n![CNN model](images/cnn-model.jpg)"
    },
    {
      "metadata": {},
      "cell_type": "markdown",
      "source": "Zero padding is a useful technique to preserve spatial structure of input and output (same width and height).\n\nDropout layers reduce overfitting by disregarding some of the neurons while training.\n\nFlatten layers flatten 2-D arrays to 1-D array before building the fully-connected layers.\n\nOne can always experiment with kernel size, pool size, activation functions, dropout rate, and number of neurons in each dense layer to get a better results."
    },
    {
      "metadata": {
        "trusted": true
      },
      "cell_type": "code",
      "source": "cnn = Sequential()\n\ncnn.add(Conv2D(32, kernel_size=(5,5),input_shape=(28,28,1), padding='same', activation='relu'))\ncnn.add(MaxPooling2D())\ncnn.add(Conv2D(64, kernel_size=(5,5),padding='same', activation='relu'))\ncnn.add(MaxPooling2D())\ncnn.add(Flatten())\ncnn.add(Dense(1024,activation='relu'))\ncnn.add(Dropout(0.2))\ncnn.add(Dense(10,activation='softmax'))\n\ncnn.compile(optimizer='adam',loss='categorical_crossentropy',metrics=['accuracy'])\nprint(cnn.summary())",
      "execution_count": 21,
      "outputs": [
        {
          "output_type": "stream",
          "text": "Model: \"sequential_3\"\n_________________________________________________________________\nLayer (type)                 Output Shape              Param #   \n=================================================================\nconv2d_5 (Conv2D)            (None, 28, 28, 32)        832       \n_________________________________________________________________\nmax_pooling2d_5 (MaxPooling2 (None, 14, 14, 32)        0         \n_________________________________________________________________\nconv2d_6 (Conv2D)            (None, 14, 14, 64)        51264     \n_________________________________________________________________\nmax_pooling2d_6 (MaxPooling2 (None, 7, 7, 64)          0         \n_________________________________________________________________\nflatten_3 (Flatten)          (None, 3136)              0         \n_________________________________________________________________\ndense_4 (Dense)              (None, 1024)              3212288   \n_________________________________________________________________\ndropout_2 (Dropout)          (None, 1024)              0         \n_________________________________________________________________\ndense_5 (Dense)              (None, 10)                10250     \n=================================================================\nTotal params: 3,274,634\nTrainable params: 3,274,634\nNon-trainable params: 0\n_________________________________________________________________\nNone\n",
          "name": "stdout"
        }
      ]
    },
    {
      "metadata": {
        "trusted": true
      },
      "cell_type": "code",
      "source": "results_cnn = cnn.fit(X_train, y_train, epochs=1, verbose=1, validation_data=(X_test,y_test))",
      "execution_count": 24,
      "outputs": [
        {
          "output_type": "stream",
          "text": "Train on 60000 samples, validate on 10000 samples\nEpoch 1/1\n60000/60000 [==============================] - 695s 12ms/step - loss: 0.0600 - accuracy: 0.9816 - val_loss: 0.0425 - val_accuracy: 0.9859\n",
          "name": "stdout"
        }
      ]
    },
    {
      "metadata": {},
      "cell_type": "markdown",
      "source": "## Accuracy of the model"
    },
    {
      "metadata": {
        "trusted": true
      },
      "cell_type": "code",
      "source": "# Training data\nprint(results_cnn.history['accuracy'])\n# Test/Validation data\nprint(results_cnn.history['val_accuracy'])",
      "execution_count": 33,
      "outputs": [
        {
          "output_type": "stream",
          "text": "[0.98158336]\n[0.9858999848365784]\n",
          "name": "stdout"
        }
      ]
    },
    {
      "metadata": {},
      "cell_type": "markdown",
      "source": "## Individual predictions with the model"
    },
    {
      "metadata": {
        "trusted": true
      },
      "cell_type": "code",
      "source": "image_index = 569\nplt.imshow(X_test[image_index].reshape(28, 28),cmap='Greys')\n\npred = cnn.predict(X_test[image_index].reshape(1, 28, 28, 1))\nprint(pred.argmax())",
      "execution_count": 39,
      "outputs": [
        {
          "output_type": "stream",
          "text": "3\n",
          "name": "stdout"
        },
        {
          "output_type": "display_data",
          "data": {
            "image/png": "[encoded data removed]",
            "text/plain": "<Figure size 432x288 with 1 Axes>"
          },
          "metadata": {
            "needs_background": "light"
          }
        }
      ]
    },
    {
      "metadata": {},
      "cell_type": "markdown",
      "source": "Even though this is not a good handwriting of the number 3, the CNN model correctly classified it."
    },
    {
      "metadata": {},
      "cell_type": "markdown",
      "source": "## Model accuracy for the validation dataset"
    },
    {
      "metadata": {
        "trusted": true
      },
      "cell_type": "code",
      "source": "Val_accuracy_cnn = cnn.evaluate(X_test, y_test)\nVal_accuracy_cnn",
      "execution_count": 42,
      "outputs": [
        {
          "output_type": "stream",
          "text": "10000/10000 [==============================] - 25s 2ms/step\n",
          "name": "stdout"
        },
        {
          "output_type": "execute_result",
          "execution_count": 42,
          "data": {
            "text/plain": "[0.042473986373480876, 0.9858999848365784]"
          },
          "metadata": {}
        }
      ]
    },
    {
      "metadata": {
        "collapsed": true,
        "trusted": true
      },
      "cell_type": "markdown",
      "source": "### A convolutional neural network has been shown to classify handwritten digits with Tensorflow’s Keras API. It has achieved an accuracy over 98.5% which is better than the accuracy of fully-connected neural networks."
    }
  ],
  "metadata": {
    "anaconda-cloud": {},
    "kernelspec": {
      "name": "python36",
      "display_name": "Python 3.6",
      "language": "python"
    },
    "language_info": {
      "mimetype": "text/x-python",
      "nbconvert_exporter": "python",
      "name": "python",
      "pygments_lexer": "ipython3",
      "version": "3.6.6",
      "file_extension": ".py",
      "codemirror_mode": {
        "version": 3,
        "name": "ipython"
      }
    }
  },
  "nbformat": 4,
  "nbformat_minor": 2
}