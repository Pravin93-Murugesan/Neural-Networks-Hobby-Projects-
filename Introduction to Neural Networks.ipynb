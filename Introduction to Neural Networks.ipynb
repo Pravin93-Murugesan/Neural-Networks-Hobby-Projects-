{
  "cells": [
    {
      "metadata": {
        "collapsed": true
      },
      "cell_type": "markdown",
      "source": "# Introduction to Neural Networks"
    },
    {
      "metadata": {},
      "cell_type": "markdown",
      "source": "### Keras is needed to work on deep neural networks in Python. Here, keras runs on top of TensorFlow (other options: Microsoft Cognitive Toolkit, R, Theano, PlaidML). "
    },
    {
      "metadata": {},
      "cell_type": "markdown",
      "source": "## Import necessary packages"
    },
    {
      "metadata": {
        "trusted": true
      },
      "cell_type": "code",
      "source": "from keras.datasets import mnist\nfrom keras.preprocessing.image import load_img, array_to_img\nfrom keras.utils.np_utils import to_categorical\nfrom keras.models import Sequential\nfrom keras.layers import Dense\n\nimport numpy as np\nimport matplotlib.pyplot as plt\n%matplotlib inline",
      "execution_count": null,
      "outputs": []
    },
    {
      "metadata": {},
      "cell_type": "markdown",
      "source": "## Download and load the MNIST dataset"
    },
    {
      "metadata": {
        "trusted": true
      },
      "cell_type": "code",
      "source": "(X_train, Y_train), (x_test, y_test) = mnist.load_data()",
      "execution_count": 9,
      "outputs": []
    },
    {
      "metadata": {
        "trusted": true
      },
      "cell_type": "code",
      "source": "# Check the data dimensions\nprint(X_train.shape)\nprint(Y_train.shape)\nprint(x_test.shape)\nprint(y_test.shape)",
      "execution_count": 10,
      "outputs": [
        {
          "output_type": "stream",
          "text": "(60000, 28, 28)\n(60000,)\n(10000, 28, 28)\n(10000,)\n",
          "name": "stdout"
        }
      ]
    },
    {
      "metadata": {
        "collapsed": true
      },
      "cell_type": "markdown",
      "source": "## Let's look at our data format"
    },
    {
      "metadata": {
        "trusted": true
      },
      "cell_type": "code",
      "source": "# An example of training data (image)\nplt.imshow(X_train[0], cmap='gray')",
      "execution_count": 6,
      "outputs": [
        {
          "output_type": "execute_result",
          "execution_count": 6,
          "data": {
            "text/plain": "<matplotlib.image.AxesImage at 0x7f574a3cacc0>"
          },
          "metadata": {}
        },
        {
          "output_type": "display_data",
          "data": {
            "image/png": "[encoded data removed]",
            "text/plain": "<matplotlib.figure.Figure at 0x7f574a6462b0>"
          },
          "metadata": {}
        }
      ]
    },
    {
      "metadata": {
        "trusted": true
      },
      "cell_type": "code",
      "source": "# An example of training data (label)\nY_train[0]",
      "execution_count": 17,
      "outputs": [
        {
          "output_type": "execute_result",
          "execution_count": 17,
          "data": {
            "text/plain": "5"
          },
          "metadata": {}
        }
      ]
    },
    {
      "metadata": {},
      "cell_type": "markdown",
      "source": "## Preprocessing the image data (Converting the data from 2-D to 1-D)"
    },
    {
      "metadata": {},
      "cell_type": "markdown",
      "source": "## Preprocessing the labels (To categorical)"
    },
    {
      "metadata": {
        "trusted": true
      },
      "cell_type": "code",
      "source": "img_h, img_w = 28,28\n\nX_train = X_train.reshape(60000, img_h*img_w)\nx_test = x_test.reshape(10000, img_h*img_w)",
      "execution_count": 21,
      "outputs": []
    },
    {
      "metadata": {
        "trusted": true
      },
      "cell_type": "code",
      "source": "X_train = X_train.astype('float32')\nx_test = x_test.astype('float32')\n\n# Normalize the data as it is always required in neural network models\n# Scaling data to 0-1 instead of 0-255\nX_train /= 255.0\nx_test /= 255.0",
      "execution_count": 22,
      "outputs": []
    },
    {
      "metadata": {
        "trusted": true
      },
      "cell_type": "code",
      "source": "# Turning labels to categorical\nY_train = to_categorical(Y_train, 10)\ny_test = to_categorical(y_test, 10)\nprint(Y_train.shape)\nprint(y_test.shape)",
      "execution_count": 23,
      "outputs": [
        {
          "output_type": "stream",
          "text": "(60000, 10)\n(10000, 10)\n",
          "name": "stdout"
        }
      ]
    },
    {
      "metadata": {
        "collapsed": true
      },
      "cell_type": "markdown",
      "source": "## Build a model"
    },
    {
      "metadata": {
        "trusted": true
      },
      "cell_type": "code",
      "source": "model = Sequential()",
      "execution_count": 14,
      "outputs": []
    },
    {
      "metadata": {
        "trusted": true
      },
      "cell_type": "code",
      "source": "# Add hidden layers (fully connected nodes) / activation function / output layer\n# No of hidden layers and no of neurons in the layers are experimental\nmodel.add(Dense(512, activation='relu', input_shape=(784,)))\nmodel.add(Dense(512, activation='relu'))\nmodel.add(Dense(10,activation='softmax'))",
      "execution_count": 15,
      "outputs": []
    },
    {
      "metadata": {
        "collapsed": true
      },
      "cell_type": "markdown",
      "source": "## Compile the model"
    },
    {
      "metadata": {
        "trusted": true
      },
      "cell_type": "code",
      "source": "# Component of Keras\n# Here, we configure the learning process\nmodel.compile(optimizer='adam',loss='categorical_crossentropy', metrics=['accuracy'])",
      "execution_count": 19,
      "outputs": []
    },
    {
      "metadata": {
        "trusted": true
      },
      "cell_type": "code",
      "source": "# Other optimzers: SGD, RMSprop\n# Other loss functions: mean_squared_error",
      "execution_count": null,
      "outputs": []
    },
    {
      "metadata": {
        "trusted": true
      },
      "cell_type": "code",
      "source": "# To check our model and no of parameters\nmodel.summary()",
      "execution_count": 20,
      "outputs": [
        {
          "output_type": "stream",
          "text": "_________________________________________________________________\nLayer (type)                 Output Shape              Param #   \n=================================================================\ndense_1 (Dense)              (None, 512)               401920    \n_________________________________________________________________\ndense_2 (Dense)              (None, 512)               262656    \n_________________________________________________________________\ndense_3 (Dense)              (None, 10)                5130      \n=================================================================\nTotal params: 669,706\nTrainable params: 669,706\nNon-trainable params: 0\n_________________________________________________________________\n",
          "name": "stdout"
        }
      ]
    },
    {
      "metadata": {
        "trusted": false
      },
      "cell_type": "code",
      "source": "# Parameters calculation example - Input layer to first hidden layer \n# weight plus bias terms \n# (784*512) + 512 = 401920",
      "execution_count": null,
      "outputs": []
    },
    {
      "metadata": {
        "collapsed": true
      },
      "cell_type": "markdown",
      "source": "## Train the model"
    },
    {
      "metadata": {
        "trusted": true
      },
      "cell_type": "code",
      "source": "results = model.fit(X_train, Y_train, epochs=3, validation_data=(x_test, y_test))",
      "execution_count": 25,
      "outputs": [
        {
          "output_type": "stream",
          "text": "Train on 60000 samples, validate on 10000 samples\nEpoch 1/3\n60000/60000 [==============================] - 96s - loss: 0.1016 - acc: 0.9681 - val_loss: 0.0849 - val_acc: 0.9745\nEpoch 2/3\n60000/60000 [==============================] - 99s - loss: 0.0632 - acc: 0.9798 - val_loss: 0.1018 - val_acc: 0.9710\nEpoch 3/3\n60000/60000 [==============================] - 95s - loss: 0.0493 - acc: 0.9842 - val_loss: 0.1115 - val_acc: 0.9681\n",
          "name": "stdout"
        }
      ]
    },
    {
      "metadata": {},
      "cell_type": "markdown",
      "source": "## Accuracy of the model"
    },
    {
      "metadata": {},
      "cell_type": "markdown",
      "source": "### Plot the accuracy of the training and validation model"
    },
    {
      "metadata": {
        "trusted": true
      },
      "cell_type": "code",
      "source": "plt.plot(results.history['acc'])\nplt.plot(results.history['val_acc'])\n\nplt.title('Model accuracy')\nplt.ylabel('Accuracy')\nplt.xlabel('Epoch')\nplt.legend(['Training', 'Validation'], loc='best')\nplt.show()",
      "execution_count": 33,
      "outputs": [
        {
          "output_type": "display_data",
          "data": {
            "image/png": "[encoded data removed]",
            "text/plain": "<matplotlib.figure.Figure at 0x7fcc5ee4af60>"
          },
          "metadata": {}
        }
      ]
    },
    {
      "metadata": {
        "collapsed": true
      },
      "cell_type": "markdown",
      "source": "### Plot the loss function"
    },
    {
      "metadata": {
        "trusted": true
      },
      "cell_type": "code",
      "source": "plt.plot(results.history['loss'])\nplt.plot(results.history['val_loss'])\n\nplt.title('Loss function')\nplt.ylabel('Loss')\nplt.legend(['Training', 'Validation'], loc='best')\nplt.xlabel('Epoch')",
      "execution_count": 34,
      "outputs": [
        {
          "output_type": "execute_result",
          "execution_count": 34,
          "data": {
            "text/plain": "Text(0.5,0,'Epoch')"
          },
          "metadata": {}
        },
        {
          "output_type": "display_data",
          "data": {
            "image/png": "[encoded data removed]",
            "text/plain": "<matplotlib.figure.Figure at 0x7fcc5ee70c88>"
          },
          "metadata": {}
        }
      ]
    },
    {
      "metadata": {},
      "cell_type": "markdown",
      "source": "## Model accuracy for the validation dataset can also be checked with 'evaluate'"
    },
    {
      "metadata": {
        "trusted": true
      },
      "cell_type": "code",
      "source": "Val_accuracy = model.evaluate(x_test, y_test)\nVal_accuracy",
      "execution_count": 37,
      "outputs": [
        {
          "output_type": "stream",
          "text": " 9952/10000 [============================>.] - ETA: 0s",
          "name": "stdout"
        },
        {
          "output_type": "execute_result",
          "execution_count": 37,
          "data": {
            "text/plain": "[0.11150416854638606, 0.9681]"
          },
          "metadata": {}
        }
      ]
    },
    {
      "metadata": {
        "trusted": true
      },
      "cell_type": "code",
      "source": "# This accuracy is the same as seen above in epoch 3",
      "execution_count": 38,
      "outputs": []
    },
    {
      "metadata": {},
      "cell_type": "markdown",
      "source": "### When fully connected neural networks is used to classify images, we get an accuracy of 96.81 %. It is not a bad start when trying out deep learning."
    },
    {
      "metadata": {},
      "cell_type": "markdown",
      "source": "### In a different notebook, the use of convolution neural networks is shown."
    }
  ],
  "metadata": {
    "kernelspec": {
      "name": "python3",
      "display_name": "Python 3",
      "language": "python"
    },
    "language_info": {
      "mimetype": "text/x-python",
      "nbconvert_exporter": "python",
      "name": "python",
      "pygments_lexer": "ipython3",
      "version": "3.5.4",
      "file_extension": ".py",
      "codemirror_mode": {
        "version": 3,
        "name": "ipython"
      }
    }
  },
  "nbformat": 4,
  "nbformat_minor": 2
}